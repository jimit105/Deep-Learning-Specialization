{
 "cells": [
  {
   "cell_type": "code",
   "execution_count": 1,
   "metadata": {},
   "outputs": [],
   "source": [
    "import numpy as np\n",
    "\n",
    "a = np.random.randn(5)\n",
    "# creates an array of specified shape and \n",
    "# fills it with random values as per standard normal distribution"
   ]
  },
  {
   "cell_type": "code",
   "execution_count": 2,
   "metadata": {},
   "outputs": [
    {
     "name": "stdout",
     "output_type": "stream",
     "text": [
      "[ 1.91039452  0.62097796  0.88589665 -0.71631952  1.37894607]\n"
     ]
    }
   ],
   "source": [
    "print(a)"
   ]
  },
  {
   "cell_type": "code",
   "execution_count": 3,
   "metadata": {},
   "outputs": [
    {
     "name": "stdout",
     "output_type": "stream",
     "text": [
      "(5,)\n"
     ]
    }
   ],
   "source": [
    "print(a.shape)\n",
    "# a is rank 1 matrix"
   ]
  },
  {
   "cell_type": "code",
   "execution_count": 4,
   "metadata": {},
   "outputs": [
    {
     "name": "stdout",
     "output_type": "stream",
     "text": [
      "[ 1.91039452  0.62097796  0.88589665 -0.71631952  1.37894607]\n"
     ]
    }
   ],
   "source": [
    "print(a.T)\n",
    "# Transpose"
   ]
  },
  {
   "cell_type": "code",
   "execution_count": 5,
   "metadata": {},
   "outputs": [
    {
     "name": "stdout",
     "output_type": "stream",
     "text": [
      "7.23463965391\n"
     ]
    }
   ],
   "source": [
    "print(np.dot(a, a.T))"
   ]
  },
  {
   "cell_type": "code",
   "execution_count": 7,
   "metadata": {},
   "outputs": [
    {
     "name": "stdout",
     "output_type": "stream",
     "text": [
      "[[ 0.69582608]\n",
      " [-0.83958707]\n",
      " [-0.14155515]\n",
      " [-1.07021916]\n",
      " [-0.15170675]]\n"
     ]
    }
   ],
   "source": [
    "a = np.random.randn(5, 1)\n",
    "print(a)"
   ]
  },
  {
   "cell_type": "code",
   "execution_count": 8,
   "metadata": {},
   "outputs": [
    {
     "name": "stdout",
     "output_type": "stream",
     "text": [
      "[[ 0.69582608 -0.83958707 -0.14155515 -1.07021916 -0.15170675]]\n"
     ]
    }
   ],
   "source": [
    "print(a.T)"
   ]
  },
  {
   "cell_type": "code",
   "execution_count": 9,
   "metadata": {},
   "outputs": [
    {
     "name": "stdout",
     "output_type": "stream",
     "text": [
      "[[ 0.48417394 -0.58420658 -0.09849776 -0.74468641 -0.10556151]\n",
      " [-0.58420658  0.70490645  0.11884787  0.89854217  0.12737102]\n",
      " [-0.09849776  0.11884787  0.02003786  0.15149503  0.02147487]\n",
      " [-0.74468641  0.89854217  0.15149503  1.14536906  0.16235947]\n",
      " [-0.10556151  0.12737102  0.02147487  0.16235947  0.02301494]]\n"
     ]
    }
   ],
   "source": [
    "print(np.dot(a, a.T))"
   ]
  },
  {
   "cell_type": "markdown",
   "metadata": {},
   "source": [
    "**Note:** Use 5x1 matrix instead of rank 1 array\n",
    "\n",
    "**Don't Use:**  \n",
    "a = np.random.randn(5)  \n",
    "Here, a.shape = (5,)\n",
    "\n",
    "**Use:**  \n",
    "a = np.random.randn(5,1)  \n",
    "Here, a.shape = (5,1)  \n",
    "*column vector*  \n",
    "  \n",
    "a = np.random.randn(1,5)  \n",
    "Here, a.shape = (1,5)  \n",
    "*row vector*"
   ]
  },
  {
   "cell_type": "markdown",
   "metadata": {},
   "source": [
    "Use assertion statements to check dimensions  \n",
    "assert(a.shape == (5, 1))"
   ]
  },
  {
   "cell_type": "markdown",
   "metadata": {},
   "source": [
    "To reshape rank 1 arrays:  \n",
    "a = a.reshape((5,1))"
   ]
  }
 ],
 "metadata": {
  "kernelspec": {
   "display_name": "Python 3",
   "language": "python",
   "name": "python3"
  },
  "language_info": {
   "codemirror_mode": {
    "name": "ipython",
    "version": 3
   },
   "file_extension": ".py",
   "mimetype": "text/x-python",
   "name": "python",
   "nbconvert_exporter": "python",
   "pygments_lexer": "ipython3",
   "version": "3.6.3"
  }
 },
 "nbformat": 4,
 "nbformat_minor": 2
}
